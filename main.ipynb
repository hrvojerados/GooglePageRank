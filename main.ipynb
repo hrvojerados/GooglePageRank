{
  "metadata": {
    "kernelspec": {
      "name": "python",
      "display_name": "Python (Pyodide)",
      "language": "python"
    },
    "language_info": {
      "codemirror_mode": {
        "name": "python",
        "version": 3
      },
      "file_extension": ".py",
      "mimetype": "text/x-python",
      "name": "python",
      "nbconvert_exporter": "python",
      "pygments_lexer": "ipython3",
      "version": "3.8"
    }
  },
  "nbformat_minor": 5,
  "nbformat": 4,
  "cells": [
    {
      "id": "70e4d8a5-ace9-4152-8be2-b1c57e59eb17",
      "cell_type": "markdown",
      "source": "# Algoritam \n\n% Ulazi: $H, v, w, \\alpha$ $\\quad$ Izlaz: $\\hat{\\pi}$\n\n% Metoda potencija primijenjena na $G^{(1)}$:\n\nOdaberi početni vektor $\\hat{\\sigma}^{T} = [\\hat{\\sigma}^{T}_{1:k} \\quad \\hat{\\sigma}_{k + 1}]$ sa $\\hat{\\sigma} \\ge 0$, $||\\hat{\\sigma}|| = 1$.\n\n$\\textbf{Dok}$ nije konvergiralo:\n\n$\\qquad \\hat{\\sigma}^{T}_{1:k} = \\alpha \\hat{\\sigma}^{T}_{1:k} H_{11} + (1-\\alpha)v_1^T + \\alpha \\hat{\\sigma}_{k + 1} w_1^T$\n\n$\\qquad \\hat{\\sigma}_{k + 1} = 1 - \\hat{\\sigma}^{T}_{1:k} e$\n\n$\\textbf{zavrsi dok}$\n\n% Vrati PageRank\n\n$\\hat{\\pi}^T = [\\hat{\\sigma}^{T}_{1:k} \\quad \\alpha \\hat{\\sigma}^{T}_{1:k} H_{12} + (1-\\alpha)v_2^T + \\alpha \\hat{\\sigma}_{k + 1} w_2^T]$ ",
      "metadata": {}
    },
    {
      "id": "24d5dbb6-c3de-4def-8803-7717510ce2c0",
      "cell_type": "code",
      "source": "import numpy as np\nfrom copy import deepcopy",
      "metadata": {
        "trusted": true
      },
      "outputs": [],
      "execution_count": 353
    },
    {
      "id": "3fe4ef25-94a3-445d-9300-93c6fc17282f",
      "cell_type": "code",
      "source": "def get_H_11_and_H_12(H):\n    k = -1\n    for i in range(len(H)):\n        if not H[i, :].any():\n            k = i\n            break\n\n    if k == -1:\n        return \"Error\"\n    \n    H_11 = H[0:k, 0:k]\n\n    H_12 = H[:len(H)-k+1, k:]\n    \n    return H_11, H_12",
      "metadata": {
        "trusted": true
      },
      "outputs": [],
      "execution_count": 312
    },
    {
      "id": "c6487ec9-5e1c-4af9-94a7-d89b92e6ba2a",
      "cell_type": "code",
      "source": "def pagerank(H, v, w, a, conv = 0.01):\n    H_11, H_12 = get_H_11_and_H_12(H)\n    k = len(H_11)\n    \n    w_1_T = w[:k].transpose()\n    w_2_T = w[k:].transpose()\n\n    v_1_T = v[:k].transpose()\n    v_2_T = v[k:].transpose()\n    \n    sigma = np.random.rand(k+1)\n    sigma = sigma / sum(sigma)\n    sigma_T = sigma.transpose()\n    \n    e = np.ones(k)\n    \n    err = float(\"inf\")\n    while err > conv:\n        sigma_T_ = deepcopy(sigma_T)\n        sigma_T_[:k] = a * sigma_T[:k] @ H_11 + (1 - a) * v_1_T + a * sigma_T[k] * w_1_T\n        sigma_T_[k] = 1 - sigma_T_[:k] @ e\n        err = sum(abs(sigma_T_ - sigma_T))\n        sigma_T = deepcopy(sigma_T_)\n\n    return np.concatenate((sigma_T_[:k], a * sigma_T_[:k] @ H_12 + (1 - a) * v_2_T + a * sigma_T[k] * w_2_T), axis=None)",
      "metadata": {
        "trusted": true
      },
      "outputs": [],
      "execution_count": 345
    },
    {
      "id": "abf1c4df-dfd1-4afe-95ff-62b55418d443",
      "cell_type": "code",
      "source": "H = np.array([\n    [0, 0, 1/2, 1/2, 0],\n    [0, 0, 1/2, 1/2, 0],\n    [1/3, 1/3, 0, 1/3, 0],\n    [0, 0, 0, 0, 0],\n    [0, 0, 0, 0, 0]\n])\n\n\nw = np.array([\n    [0],\n    [0],\n    [0],\n    [1],\n    [1],\n])\n\nw = w / sum(w)\n\n\nv = np.array([\n    [3],\n    [2],\n    [2],\n    [1],\n    [1],\n])\n\nv = v / sum(v)\n\n\npi = pagerank(H, v, w, 0.5)\n\npi",
      "metadata": {
        "trusted": true
      },
      "outputs": [
        {
          "execution_count": 352,
          "output_type": "execute_result",
          "data": {
            "text/plain": "array([0.19963539, 0.14407984, 0.19755655, 0.28909251, 0.17023761])"
          },
          "metadata": {}
        }
      ],
      "execution_count": 352
    }
  ]
}